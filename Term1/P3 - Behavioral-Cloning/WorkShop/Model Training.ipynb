{
 "cells": [
  {
   "cell_type": "markdown",
   "metadata": {},
   "source": [
    "# Train a Model"
   ]
  },
  {
   "cell_type": "markdown",
   "metadata": {},
   "source": [
    "Let's first load the required libraries:"
   ]
  },
  {
   "cell_type": "code",
   "execution_count": null,
   "metadata": {},
   "outputs": [],
   "source": [
    "import pickle\n",
    "import numpy as np\n",
    "from sklearn.model_selection import train_test_split\n",
    "\n",
    "# Fix error with TF and Keras\n",
    "import tensorflow as tf\n",
    "tf.python.control_flow_ops = tf\n",
    "\n",
    "from scripts.config import *\n",
    "from scripts.process_data import *\n",
    "\n",
    "from keras.models import Sequential\n",
    "from keras.layers.convolutional import Convolution2D\n",
    "from keras.layers.core import Dense, Flatten, Activation\n",
    "from keras.callbacks import EarlyStopping\n",
    "import matplotlib\n",
    "import matplotlib.pyplot as plt"
   ]
  },
  {
   "cell_type": "markdown",
   "metadata": {},
   "source": [
    "Let's configure the training parameters:"
   ]
  },
  {
   "cell_type": "code",
   "execution_count": null,
   "metadata": {
    "collapsed": true
   },
   "outputs": [],
   "source": [
    "############################################################\n",
    "# Configuration:\n",
    "############################################################\n",
    "batch_size = 512\n",
    "nb_epochs = 3\n",
    "seed = 2016\n",
    "test_size = 0.2\n",
    "\n",
    "# for reproducibility\n",
    "np.random.seed(seed)"
   ]
  },
  {
   "cell_type": "markdown",
   "metadata": {},
   "source": [
    "Now, load dataset train and test sets:"
   ]
  },
  {
   "cell_type": "code",
   "execution_count": null,
   "metadata": {},
   "outputs": [],
   "source": [
    "############################################################\n",
    "# Load and process Data_test:\n",
    "############################################################\n",
    "with open(CURRENT_PATH + 'features_{0}.pickle'.format(VERSION), 'rb') as handle:\n",
    "    X = pickle.load(handle)\n",
    "with open(CURRENT_PATH + 'labels_{0}.pickle'.format(VERSION), 'rb') as handle:\n",
    "    y = pickle.load(handle)\n",
    "\n",
    "X_train, X_test, y_train, y_test = train_test_split(X, y, test_size=test_size, random_state=seed)\n",
    "\n",
    "print(\"X_train shape: \", X_train.shape)\n",
    "print(\"y_train shape: \", y_train.shape)"
   ]
  },
  {
   "cell_type": "markdown",
   "metadata": {},
   "source": [
    "Let's define the model architecture:"
   ]
  },
  {
   "cell_type": "code",
   "execution_count": null,
   "metadata": {
    "collapsed": true
   },
   "outputs": [],
   "source": [
    "############################################################\n",
    "# Define model\n",
    "############################################################\n",
    "model = Sequential()\n",
    "model.add(\n",
    "    Convolution2D(nb_filter=24, nb_row=5, nb_col=5, border_mode='valid', subsample=(2, 2),\n",
    "                  input_shape=(Y_PIX, X_PIX, 3)))\n",
    "model.add(Activation('relu'))\n",
    "model.add(Convolution2D(nb_filter=36, nb_row=5, nb_col=5, border_mode='valid', subsample=(2, 2)))\n",
    "model.add(Activation('relu'))\n",
    "model.add(Convolution2D(nb_filter=48, nb_row=5, nb_col=5, border_mode='valid', subsample=(2, 2)))\n",
    "model.add(Activation('relu'))\n",
    "model.add(Convolution2D(nb_filter=64, nb_row=3, nb_col=3, border_mode='valid'))\n",
    "model.add(Activation('relu'))\n",
    "model.add(Convolution2D(nb_filter=64, nb_row=3, nb_col=3, border_mode='valid'))\n",
    "model.add(Activation('relu'))\n",
    "model.add(Flatten())\n",
    "model.add(Dense(1164))\n",
    "model.add(Activation('relu'))\n",
    "model.add(Dense(100))\n",
    "model.add(Activation('relu'))\n",
    "model.add(Dense(50))\n",
    "model.add(Activation('relu'))\n",
    "model.add(Dense(10))\n",
    "model.add(Activation('relu'))\n",
    "model.add(Dense(1))\n",
    "\n",
    "# keras model compile, choose optimizer and loss func\n",
    "model.compile(optimizer='adam', loss='mse')"
   ]
  },
  {
   "cell_type": "markdown",
   "metadata": {},
   "source": [
    "Train the model using a generator:"
   ]
  },
  {
   "cell_type": "code",
   "execution_count": null,
   "metadata": {
    "collapsed": true
   },
   "outputs": [],
   "source": [
    "def generator(samples, labels, batch_size):\n",
    "    \"\"\"\n",
    "    Generator with augmented data to feed the model_RNN\n",
    "    :param samples: numpy array with samples\n",
    "    :param labels: numpy array with corresponding labels\n",
    "    :param batch_size: int batch size\n",
    "    :yields: batched samples augmented and corresponding labels\n",
    "    \"\"\"\n",
    "    while 1:\n",
    "        batch_images = []\n",
    "        batch_steering = []\n",
    "        for batch_sample in range(0, batch_size):\n",
    "            # random value:\n",
    "            intensity = np.random.uniform()\n",
    "            # random flipping:\n",
    "            flipping = np.random.choice([True, False])\n",
    "            # random sample\n",
    "            idx = np.random.randint(samples.shape[0])\n",
    "            img_aug, steering_aug = augmented_images(samples[idx], labels[idx], flipping, intensity)\n",
    "            batch_images.append(img_aug)\n",
    "            batch_steering.append(steering_aug)\n",
    "        batch_images = np.asarray(batch_images)\n",
    "        batch_steering = np.asarray(batch_steering)\n",
    "        yield batch_images, batch_steering"
   ]
  },
  {
   "cell_type": "code",
   "execution_count": null,
   "metadata": {},
   "outputs": [],
   "source": [
    "# train generator: \n",
    "train_generator = generator(X_train, y_train, batch_size=batch_size)\n",
    "validation_generator = generator(X_test, y_test, batch_size=batch_size)\n",
    "\n",
    "# callback:\n",
    "early_stopping = EarlyStopping(monitor='val_loss', patience=1, verbose=1, mode='auto')\n",
    "\n",
    "# run epochs of sampling data then training\n",
    "model.fit_generator(train_generator, samples_per_epoch=batch_size * 100, nb_epoch=nb_epochs, verbose=1,\n",
    "                    validation_data=validation_generator, nb_val_samples=X_test.shape[0])\n",
    "\n",
    "# evaluate:\n",
    "print(\"Model Evaluation: \", model.evaluate(X_test, y_test, batch_size=32, verbose=0, sample_weight=None))\n",
    "\n",
    "# save the model\n",
    "model.save(PATH_TO_MODEL + 'model_{0}.h5'.format(VERSION))\n",
    "print(\"model Saved!\", PATH_TO_MODEL + 'model_{0}.h5'.format(VERSION))\n",
    "\n",
    "print(\"Model structure:\")\n",
    "print(model.summary())\n",
    "\n",
    "print(\"Process completed!\")"
   ]
  },
  {
   "cell_type": "markdown",
   "metadata": {},
   "source": [
    "Once the model is trained, we can run drive.py to see our car drive using the trained model. To execute drive.py, you need OpenCV and Keras installed in your computer. This is an [excellent resource to install opencv](https://milq.github.io/install-opencv-ubuntu-debian/).\n"
   ]
  },
  {
   "cell_type": "code",
   "execution_count": null,
   "metadata": {
    "collapsed": true
   },
   "outputs": [],
   "source": []
  }
 ],
 "metadata": {
  "kernelspec": {
   "display_name": "Python 3",
   "language": "python",
   "name": "python3"
  },
  "language_info": {
   "codemirror_mode": {
    "name": "ipython",
    "version": 3
   },
   "file_extension": ".py",
   "mimetype": "text/x-python",
   "name": "python",
   "nbconvert_exporter": "python",
   "pygments_lexer": "ipython3",
   "version": "3.5.2"
  },
  "widgets": {
   "state": {},
   "version": "1.1.2"
  }
 },
 "nbformat": 4,
 "nbformat_minor": 2
}
