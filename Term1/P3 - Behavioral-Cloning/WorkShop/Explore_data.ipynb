{
 "cells": [
  {
   "cell_type": "markdown",
   "metadata": {},
   "source": [
    "# Dataset Analysis"
   ]
  },
  {
   "cell_type": "markdown",
   "metadata": {},
   "source": [
    "[OpenCV](http://opencv.org/) is a great module in python for images analysis.\n",
    "\n",
    "We will use this library to transform the images as desired.\n",
    "\n",
    "In this notebook it is presented the different functions used to process the images:"
   ]
  },
  {
   "cell_type": "code",
   "execution_count": 1,
   "metadata": {},
   "outputs": [
    {
     "name": "stderr",
     "output_type": "stream",
     "text": [
      "/root/miniconda3/envs/carnd-term1/lib/python3.5/site-packages/matplotlib/__init__.py:1401: UserWarning:  This call to matplotlib.use() has no effect\n",
      "because the backend has already been chosen;\n",
      "matplotlib.use() must be called *before* pylab, matplotlib.pyplot,\n",
      "or matplotlib.backends is imported for the first time.\n",
      "\n",
      "  warnings.warn(_use_error_msg)\n"
     ]
    }
   ],
   "source": [
    "# Import required libraries:\n",
    "import pandas\n",
    "import numpy as np\n",
    "import cv2\n",
    "import pickle\n",
    "import matplotlib\n",
    "from matplotlib import gridspec\n",
    "import matplotlib.pyplot as plt\n",
    "\n",
    "from scripts.process_data import *\n",
    "from scripts.config import *"
   ]
  },
  {
   "cell_type": "markdown",
   "metadata": {},
   "source": [
    "## Basic instructions:"
   ]
  },
  {
   "cell_type": "markdown",
   "metadata": {},
   "source": [
    "Select the path for the image to transform:"
   ]
  },
  {
   "cell_type": "code",
   "execution_count": null,
   "metadata": {
    "collapsed": true
   },
   "outputs": [],
   "source": [
    "path_img = 'imgs/simulator_example.jpg'"
   ]
  },
  {
   "cell_type": "code",
   "execution_count": null,
   "metadata": {
    "collapsed": true
   },
   "outputs": [],
   "source": [
    "# read image from path\n",
    "img = cv2.imread(path_img, 1)\n",
    "img_original = cv2.imread(path_img, 1) # keep the original in this variable\n",
    "\n",
    "# normalize image:\n",
    "cv2.normalize(img, img, alpha=0, beta=1, norm_type=cv2.NORM_MINMAX, dtype=cv2.CV_32F)\n",
    "\n",
    "# crop image:\n",
    "img = img[Y_CROP:, :, :]\n",
    "\n",
    "# resize image:\n",
    "img = cv2.resize(img, (X_PIX, Y_PIX), interpolation=cv2.INTER_CUBIC)"
   ]
  },
  {
   "cell_type": "markdown",
   "metadata": {},
   "source": [
    "Plot the image:"
   ]
  },
  {
   "cell_type": "code",
   "execution_count": null,
   "metadata": {
    "collapsed": true
   },
   "outputs": [],
   "source": [
    "fig = plt.figure(figsize=(9, 4))\n",
    "gs = gridspec.GridSpec(1, 2)\n",
    "ax1 = plt.subplot(gs[0, 0])\n",
    "ax1.imshow(img_original)\n",
    "ax1.set_title('Original Image')\n",
    "ax1.axis('off')\n",
    "ax2 = plt.subplot(gs[0, 1])\n",
    "ax2.imshow(img)\n",
    "ax2.axis('off')\n",
    "ax2.set_title('Processed')\n",
    "plt.tight_layout()\n",
    "plt.show()"
   ]
  },
  {
   "cell_type": "markdown",
   "metadata": {},
   "source": [
    "## Change Image brightness"
   ]
  },
  {
   "cell_type": "code",
   "execution_count": null,
   "metadata": {
    "collapsed": true
   },
   "outputs": [],
   "source": [
    "# select a float value between 0 and 1:\n",
    "intensity = 0.1\n",
    "\n",
    "img_bright = brightness_images(img_original, intensity)"
   ]
  },
  {
   "cell_type": "markdown",
   "metadata": {},
   "source": [
    "## Create a Random Shadow"
   ]
  },
  {
   "cell_type": "code",
   "execution_count": null,
   "metadata": {
    "collapsed": true
   },
   "outputs": [],
   "source": [
    "img_shadow = random_shadow(img_original)"
   ]
  },
  {
   "cell_type": "markdown",
   "metadata": {},
   "source": [
    "## Flip the Image:"
   ]
  },
  {
   "cell_type": "code",
   "execution_count": null,
   "metadata": {
    "collapsed": true
   },
   "outputs": [],
   "source": [
    "img_flip = cv2.flip(img_original, 1)"
   ]
  },
  {
   "cell_type": "markdown",
   "metadata": {},
   "source": [
    "## Visualize transformations:"
   ]
  },
  {
   "cell_type": "code",
   "execution_count": null,
   "metadata": {
    "collapsed": true
   },
   "outputs": [],
   "source": [
    "fig = plt.figure(figsize=(9, 9))\n",
    "gs = gridspec.GridSpec(2, 2)\n",
    "ax1 = plt.subplot(gs[0, 0])\n",
    "ax1.imshow(img_original)\n",
    "ax1.set_title('Original Image')\n",
    "ax1.axis('off')\n",
    "ax2 = plt.subplot(gs[0, 1])\n",
    "ax2.imshow(img_shadow)\n",
    "ax2.axis('off')\n",
    "ax2.set_title('Shadow')\n",
    "ax3 = plt.subplot(gs[1, 1])\n",
    "ax3.imshow(img_flip)\n",
    "ax3.axis('off')\n",
    "ax3.set_title('Flip')\n",
    "ax4 = plt.subplot(gs[1, 0])\n",
    "ax4.imshow(img_bright)\n",
    "ax4.axis('off')\n",
    "ax4.set_title('Bright trans.')\n",
    "plt.tight_layout()\n",
    "plt.show()"
   ]
  },
  {
   "cell_type": "markdown",
   "metadata": {},
   "source": [
    "# Generate Dataset"
   ]
  },
  {
   "cell_type": "markdown",
   "metadata": {},
   "source": [
    "First, let's fix the path images of the .csv file generated with the images in the simulator. The final paths should look like:\n",
    "```\n",
    "personalname/data/IMG/center_2017_07_10_1...\n",
    "\n",
    "```\n",
    "Let's use pandas to handle this:"
   ]
  },
  {
   "cell_type": "code",
   "execution_count": null,
   "metadata": {},
   "outputs": [],
   "source": [
    "# Read driving_log.csv:\n",
    "\n",
    "sour = 'alfonso' # include the name of the directory\n",
    "\n",
    "df = pandas.read_csv(SOURCES[sour] + \"driving_log.csv\", sep=\",\", header=None, names=['center','left','right','steering','throttle','brake','speed'])\n",
    "df[\"center\"] = df['center'].apply(lambda x: x.replace('Data/alfonso/data/Users/alfonso.jimenez/', ''))\n",
    "df[\"center\"] = df['center'].apply(lambda x: x.replace('Data/alfonso/data/Data', 'Data'))\n",
    "\n",
    "print(df['center'].head())"
   ]
  },
  {
   "cell_type": "markdown",
   "metadata": {},
   "source": [
    "Is the path right?, then save the dataframe:"
   ]
  },
  {
   "cell_type": "code",
   "execution_count": null,
   "metadata": {
    "collapsed": true
   },
   "outputs": [],
   "source": [
    "df.to_csv(SOURCES[sour] + \"driving_log.csv\", sep=\",\", index=False)"
   ]
  },
  {
   "cell_type": "markdown",
   "metadata": {},
   "source": [
    "In order to prepare the dataset for the neural network we execute ```generate_dataset()``` function to generate a 4 dimensional matrix where all images are stored with the constrains (normalized and resized) in train and test sets:"
   ]
  },
  {
   "cell_type": "code",
   "execution_count": 2,
   "metadata": {
    "scrolled": true
   },
   "outputs": [
    {
     "name": "stdout",
     "output_type": "stream",
     "text": [
      "Loading source:  alfonso\n",
      "Dataset Size:  1420\n",
      "Straight drives removed:  0\n",
      "Almost Straight drives removed:  0\n",
      "Dataset shape: (1420, 100, 160, 3)\n"
     ]
    }
   ],
   "source": [
    "generate_dataset()"
   ]
  }
 ],
 "metadata": {
  "kernelspec": {
   "display_name": "Python 3",
   "language": "python",
   "name": "python3"
  },
  "language_info": {
   "codemirror_mode": {
    "name": "ipython",
    "version": 3
   },
   "file_extension": ".py",
   "mimetype": "text/x-python",
   "name": "python",
   "nbconvert_exporter": "python",
   "pygments_lexer": "ipython3",
   "version": "3.5.2"
  },
  "widgets": {
   "state": {},
   "version": "1.1.2"
  }
 },
 "nbformat": 4,
 "nbformat_minor": 2
}
